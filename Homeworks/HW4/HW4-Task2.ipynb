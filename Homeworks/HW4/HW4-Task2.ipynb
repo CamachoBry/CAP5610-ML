{
 "cells": [
  {
   "cell_type": "code",
   "execution_count": 580,
   "metadata": {},
   "outputs": [],
   "source": [
    "import numpy as np\n",
    "import pandas as pd\n",
    "from sklearn.datasets import load_iris \n",
    "from math import sqrt\n",
    "import kmeans\n",
    "from numpy.linalg import norm\n",
    "from numpy.random import choice\n",
    "from numpy.random import seed"
   ]
  },
  {
   "cell_type": "code",
   "execution_count": 581,
   "metadata": {},
   "outputs": [
    {
     "data": {
      "text/plain": [
       "[array([5.1, 3.5, 1.4, 0.2]),\n",
       " array([4.9, 3. , 1.4, 0.2]),\n",
       " array([4.7, 3.2, 1.3, 0.2]),\n",
       " array([4.6, 3.1, 1.5, 0.2]),\n",
       " array([5. , 3.6, 1.4, 0.2]),\n",
       " array([5.4, 3.9, 1.7, 0.4]),\n",
       " array([4.6, 3.4, 1.4, 0.3]),\n",
       " array([5. , 3.4, 1.5, 0.2]),\n",
       " array([4.4, 2.9, 1.4, 0.2]),\n",
       " array([4.9, 3.1, 1.5, 0.1]),\n",
       " array([5.4, 3.7, 1.5, 0.2]),\n",
       " array([4.8, 3.4, 1.6, 0.2]),\n",
       " array([4.8, 3. , 1.4, 0.1]),\n",
       " array([4.3, 3. , 1.1, 0.1]),\n",
       " array([5.8, 4. , 1.2, 0.2]),\n",
       " array([5.7, 4.4, 1.5, 0.4]),\n",
       " array([5.4, 3.9, 1.3, 0.4]),\n",
       " array([5.1, 3.5, 1.4, 0.3]),\n",
       " array([5.7, 3.8, 1.7, 0.3]),\n",
       " array([5.1, 3.8, 1.5, 0.3]),\n",
       " array([5.4, 3.4, 1.7, 0.2]),\n",
       " array([5.1, 3.7, 1.5, 0.4]),\n",
       " array([4.6, 3.6, 1. , 0.2]),\n",
       " array([5.1, 3.3, 1.7, 0.5]),\n",
       " array([4.8, 3.4, 1.9, 0.2]),\n",
       " array([5. , 3. , 1.6, 0.2]),\n",
       " array([5. , 3.4, 1.6, 0.4]),\n",
       " array([5.2, 3.5, 1.5, 0.2]),\n",
       " array([5.2, 3.4, 1.4, 0.2]),\n",
       " array([4.7, 3.2, 1.6, 0.2]),\n",
       " array([4.8, 3.1, 1.6, 0.2]),\n",
       " array([5.4, 3.4, 1.5, 0.4]),\n",
       " array([5.2, 4.1, 1.5, 0.1]),\n",
       " array([5.5, 4.2, 1.4, 0.2]),\n",
       " array([4.9, 3.1, 1.5, 0.2]),\n",
       " array([5. , 3.2, 1.2, 0.2]),\n",
       " array([5.5, 3.5, 1.3, 0.2]),\n",
       " array([4.9, 3.6, 1.4, 0.1]),\n",
       " array([4.4, 3. , 1.3, 0.2]),\n",
       " array([5.1, 3.4, 1.5, 0.2]),\n",
       " array([5. , 3.5, 1.3, 0.3]),\n",
       " array([4.5, 2.3, 1.3, 0.3]),\n",
       " array([4.4, 3.2, 1.3, 0.2]),\n",
       " array([5. , 3.5, 1.6, 0.6]),\n",
       " array([5.1, 3.8, 1.9, 0.4]),\n",
       " array([4.8, 3. , 1.4, 0.3]),\n",
       " array([5.1, 3.8, 1.6, 0.2]),\n",
       " array([4.6, 3.2, 1.4, 0.2]),\n",
       " array([5.3, 3.7, 1.5, 0.2]),\n",
       " array([5. , 3.3, 1.4, 0.2]),\n",
       " array([7. , 3.2, 4.7, 1.4]),\n",
       " array([6.4, 3.2, 4.5, 1.5]),\n",
       " array([6.9, 3.1, 4.9, 1.5]),\n",
       " array([5.5, 2.3, 4. , 1.3]),\n",
       " array([6.5, 2.8, 4.6, 1.5]),\n",
       " array([5.7, 2.8, 4.5, 1.3]),\n",
       " array([6.3, 3.3, 4.7, 1.6]),\n",
       " array([4.9, 2.4, 3.3, 1. ]),\n",
       " array([6.6, 2.9, 4.6, 1.3]),\n",
       " array([5.2, 2.7, 3.9, 1.4]),\n",
       " array([5. , 2. , 3.5, 1. ]),\n",
       " array([5.9, 3. , 4.2, 1.5]),\n",
       " array([6. , 2.2, 4. , 1. ]),\n",
       " array([6.1, 2.9, 4.7, 1.4]),\n",
       " array([5.6, 2.9, 3.6, 1.3]),\n",
       " array([6.7, 3.1, 4.4, 1.4]),\n",
       " array([5.6, 3. , 4.5, 1.5]),\n",
       " array([5.8, 2.7, 4.1, 1. ]),\n",
       " array([6.2, 2.2, 4.5, 1.5]),\n",
       " array([5.6, 2.5, 3.9, 1.1]),\n",
       " array([5.9, 3.2, 4.8, 1.8]),\n",
       " array([6.1, 2.8, 4. , 1.3]),\n",
       " array([6.3, 2.5, 4.9, 1.5]),\n",
       " array([6.1, 2.8, 4.7, 1.2]),\n",
       " array([6.4, 2.9, 4.3, 1.3]),\n",
       " array([6.6, 3. , 4.4, 1.4]),\n",
       " array([6.8, 2.8, 4.8, 1.4]),\n",
       " array([6.7, 3. , 5. , 1.7]),\n",
       " array([6. , 2.9, 4.5, 1.5]),\n",
       " array([5.7, 2.6, 3.5, 1. ]),\n",
       " array([5.5, 2.4, 3.8, 1.1]),\n",
       " array([5.5, 2.4, 3.7, 1. ]),\n",
       " array([5.8, 2.7, 3.9, 1.2]),\n",
       " array([6. , 2.7, 5.1, 1.6]),\n",
       " array([5.4, 3. , 4.5, 1.5]),\n",
       " array([6. , 3.4, 4.5, 1.6]),\n",
       " array([6.7, 3.1, 4.7, 1.5]),\n",
       " array([6.3, 2.3, 4.4, 1.3]),\n",
       " array([5.6, 3. , 4.1, 1.3]),\n",
       " array([5.5, 2.5, 4. , 1.3]),\n",
       " array([5.5, 2.6, 4.4, 1.2]),\n",
       " array([6.1, 3. , 4.6, 1.4]),\n",
       " array([5.8, 2.6, 4. , 1.2]),\n",
       " array([5. , 2.3, 3.3, 1. ]),\n",
       " array([5.6, 2.7, 4.2, 1.3]),\n",
       " array([5.7, 3. , 4.2, 1.2]),\n",
       " array([5.7, 2.9, 4.2, 1.3]),\n",
       " array([6.2, 2.9, 4.3, 1.3]),\n",
       " array([5.1, 2.5, 3. , 1.1]),\n",
       " array([5.7, 2.8, 4.1, 1.3]),\n",
       " array([6.3, 3.3, 6. , 2.5]),\n",
       " array([5.8, 2.7, 5.1, 1.9]),\n",
       " array([7.1, 3. , 5.9, 2.1]),\n",
       " array([6.3, 2.9, 5.6, 1.8]),\n",
       " array([6.5, 3. , 5.8, 2.2]),\n",
       " array([7.6, 3. , 6.6, 2.1]),\n",
       " array([4.9, 2.5, 4.5, 1.7]),\n",
       " array([7.3, 2.9, 6.3, 1.8]),\n",
       " array([6.7, 2.5, 5.8, 1.8]),\n",
       " array([7.2, 3.6, 6.1, 2.5]),\n",
       " array([6.5, 3.2, 5.1, 2. ]),\n",
       " array([6.4, 2.7, 5.3, 1.9]),\n",
       " array([6.8, 3. , 5.5, 2.1]),\n",
       " array([5.7, 2.5, 5. , 2. ]),\n",
       " array([5.8, 2.8, 5.1, 2.4]),\n",
       " array([6.4, 3.2, 5.3, 2.3]),\n",
       " array([6.5, 3. , 5.5, 1.8]),\n",
       " array([7.7, 3.8, 6.7, 2.2]),\n",
       " array([7.7, 2.6, 6.9, 2.3]),\n",
       " array([6. , 2.2, 5. , 1.5]),\n",
       " array([6.9, 3.2, 5.7, 2.3]),\n",
       " array([5.6, 2.8, 4.9, 2. ]),\n",
       " array([7.7, 2.8, 6.7, 2. ]),\n",
       " array([6.3, 2.7, 4.9, 1.8]),\n",
       " array([6.7, 3.3, 5.7, 2.1]),\n",
       " array([7.2, 3.2, 6. , 1.8]),\n",
       " array([6.2, 2.8, 4.8, 1.8]),\n",
       " array([6.1, 3. , 4.9, 1.8]),\n",
       " array([6.4, 2.8, 5.6, 2.1]),\n",
       " array([7.2, 3. , 5.8, 1.6]),\n",
       " array([7.4, 2.8, 6.1, 1.9]),\n",
       " array([7.9, 3.8, 6.4, 2. ]),\n",
       " array([6.4, 2.8, 5.6, 2.2]),\n",
       " array([6.3, 2.8, 5.1, 1.5]),\n",
       " array([6.1, 2.6, 5.6, 1.4]),\n",
       " array([7.7, 3. , 6.1, 2.3]),\n",
       " array([6.3, 3.4, 5.6, 2.4]),\n",
       " array([6.4, 3.1, 5.5, 1.8]),\n",
       " array([6. , 3. , 4.8, 1.8]),\n",
       " array([6.9, 3.1, 5.4, 2.1]),\n",
       " array([6.7, 3.1, 5.6, 2.4]),\n",
       " array([6.9, 3.1, 5.1, 2.3]),\n",
       " array([5.8, 2.7, 5.1, 1.9]),\n",
       " array([6.8, 3.2, 5.9, 2.3]),\n",
       " array([6.7, 3.3, 5.7, 2.5]),\n",
       " array([6.7, 3. , 5.2, 2.3]),\n",
       " array([6.3, 2.5, 5. , 1.9]),\n",
       " array([6.5, 3. , 5.2, 2. ]),\n",
       " array([6.2, 3.4, 5.4, 2.3]),\n",
       " array([5.9, 3. , 5.1, 1.8])]"
      ]
     },
     "execution_count": 581,
     "metadata": {},
     "output_type": "execute_result"
    }
   ],
   "source": [
    "iris = load_iris()\n",
    "data = list(iris.data)\n",
    "data"
   ]
  },
  {
   "cell_type": "code",
   "execution_count": null,
   "metadata": {},
   "outputs": [],
   "source": []
  },
  {
   "cell_type": "markdown",
   "metadata": {},
   "source": [
    "### Initializing number of clusters and iterations"
   ]
  },
  {
   "cell_type": "code",
   "execution_count": 582,
   "metadata": {},
   "outputs": [],
   "source": [
    "k = 3 \n",
    "max_iteration = 500"
   ]
  },
  {
   "cell_type": "markdown",
   "metadata": {},
   "source": [
    "### Defining each distance formula"
   ]
  },
  {
   "cell_type": "code",
   "execution_count": 583,
   "metadata": {},
   "outputs": [],
   "source": [
    "# helper function\n",
    "def dot_prod(v1, v2):\n",
    "    return sum(a * b for a, b in zip(v1, v2))\n",
    "\n",
    "# Euclidean Distance\n",
    "def euclid_dist(v1, v2):\n",
    "    dis = sum((v1 - v2)**2)**0.5\n",
    "    return dis\n",
    "\n",
    "# Cosine Similarity\n",
    "def cosine_sim_dist(v1, v2): \n",
    "#     v1 = list(v1)\n",
    "#     v2 = list(v2)\n",
    "    #get magnitude of each vector\n",
    "    mag_v1 = sqrt(dot_prod(v1, v1))\n",
    "    mag_v2 = sqrt(dot_prod(v2, v2))\n",
    "    \n",
    "    return dot_prod(v1, v2) / (mag_v1 * mag_v2 + .00000000001)\n",
    "    \n",
    "# Jaccard Similarity\n",
    "def jaccard_dist(v1, v2):\n",
    "    # gets min of v1 and v2 pairwise\n",
    "    min_sum = sum([min(a,b) for a,b in zip(v1, v2)])\n",
    "    # gets max of v1 and v2 pairwise\n",
    "    max_sum = sum([max(a,b) for a,b in zip(v1, v2)])     \n",
    "    return min_sum / max_sum"
   ]
  },
  {
   "cell_type": "markdown",
   "metadata": {},
   "source": [
    "### Defining the K-mean algorithm"
   ]
  },
  {
   "cell_type": "code",
   "execution_count": 599,
   "metadata": {},
   "outputs": [],
   "source": [
    "def KMean(data, k , max_iteration, dist_eq = 'euclid'):\n",
    "    \n",
    "    centroids = {}\n",
    "    for i in range(k):\n",
    "        centroids[i] = data[choice(range(len(data)))]\n",
    "#         data[choice(len(data))]    \n",
    "    classes = {}\n",
    "    \n",
    "    for iteration in range(max_iteration):\n",
    "        classes = {}\n",
    "        \n",
    "        for class_key in range(k):\n",
    "            classes[class_key] = []\n",
    "            \n",
    "        for point in data:\n",
    "            distance = []\n",
    "            for centroid in centroids:\n",
    "                if dist_eq == 'euclid':\n",
    "                    dis = euclid_dist(point, centroids[centroid])\n",
    "                elif dist_eq == 'jaccard':\n",
    "                    dis = 1 - jaccard_dist(point, centroids[centroid])\n",
    "                else: \n",
    "                    dis = 1 - cosine_sim_dist(point, centroids[centroid])\n",
    "                    \n",
    "                    \n",
    "                distance.append(dis)\n",
    "            \n",
    "            min_dist = min(distance)\n",
    "            min_dist_idx = distance.index(min_dist)\n",
    "            classes[min_dist_idx].append(point)\n",
    "            \n",
    "        old_centroid = dict(centroids)\n",
    "        \n",
    "        for class_key in classes:\n",
    "            class_data = classes[class_key]\n",
    "            new_centroid = np.mean(class_data, axis=0)\n",
    "            centroids[class_key] = new_centroid\n",
    "            \n",
    "            \n",
    "        fine = True\n",
    "        \n",
    "        for centroid in old_centroid:\n",
    "            old_cent = old_centroid[centroid]\n",
    "            current = centroids[centroid]\n",
    "            \n",
    "            if np.sum((current - old_cent)/ old_cent * 100) > 0.001:\n",
    "                fine = False\n",
    "                \n",
    "                \n",
    "        if fine:\n",
    "            break\n",
    "            \n",
    "    return centroids, classes\n",
    "            \n",
    "            "
   ]
  },
  {
   "cell_type": "code",
   "execution_count": 600,
   "metadata": {},
   "outputs": [],
   "source": [
    "centroids, classes = KMean(data, k, max_iteration, dist_eq='euclid')"
   ]
  },
  {
   "cell_type": "code",
   "execution_count": 601,
   "metadata": {},
   "outputs": [
    {
     "data": {
      "text/plain": [
       "({0: array([7.08695652, 3.12608696, 6.01304348, 2.14347826]),\n",
       "  1: array([5.01818182, 3.33090909, 1.63090909, 0.31636364]),\n",
       "  2: array([6.07638889, 2.82638889, 4.6625    , 1.57222222])},\n",
       " {0: [array([6.3, 3.3, 6. , 2.5]),\n",
       "   array([7.1, 3. , 5.9, 2.1]),\n",
       "   array([6.5, 3. , 5.8, 2.2]),\n",
       "   array([7.6, 3. , 6.6, 2.1]),\n",
       "   array([7.3, 2.9, 6.3, 1.8]),\n",
       "   array([6.7, 2.5, 5.8, 1.8]),\n",
       "   array([7.2, 3.6, 6.1, 2.5]),\n",
       "   array([6.8, 3. , 5.5, 2.1]),\n",
       "   array([7.7, 3.8, 6.7, 2.2]),\n",
       "   array([7.7, 2.6, 6.9, 2.3]),\n",
       "   array([6.9, 3.2, 5.7, 2.3]),\n",
       "   array([7.7, 2.8, 6.7, 2. ]),\n",
       "   array([6.7, 3.3, 5.7, 2.1]),\n",
       "   array([7.2, 3.2, 6. , 1.8]),\n",
       "   array([7.2, 3. , 5.8, 1.6]),\n",
       "   array([7.4, 2.8, 6.1, 1.9]),\n",
       "   array([7.9, 3.8, 6.4, 2. ]),\n",
       "   array([7.7, 3. , 6.1, 2.3]),\n",
       "   array([6.3, 3.4, 5.6, 2.4]),\n",
       "   array([6.9, 3.1, 5.4, 2.1]),\n",
       "   array([6.7, 3.1, 5.6, 2.4]),\n",
       "   array([6.8, 3.2, 5.9, 2.3]),\n",
       "   array([6.7, 3.3, 5.7, 2.5])],\n",
       "  1: [array([5.1, 3.5, 1.4, 0.2]),\n",
       "   array([4.9, 3. , 1.4, 0.2]),\n",
       "   array([4.7, 3.2, 1.3, 0.2]),\n",
       "   array([4.6, 3.1, 1.5, 0.2]),\n",
       "   array([5. , 3.6, 1.4, 0.2]),\n",
       "   array([5.4, 3.9, 1.7, 0.4]),\n",
       "   array([4.6, 3.4, 1.4, 0.3]),\n",
       "   array([5. , 3.4, 1.5, 0.2]),\n",
       "   array([4.4, 2.9, 1.4, 0.2]),\n",
       "   array([4.9, 3.1, 1.5, 0.1]),\n",
       "   array([5.4, 3.7, 1.5, 0.2]),\n",
       "   array([4.8, 3.4, 1.6, 0.2]),\n",
       "   array([4.8, 3. , 1.4, 0.1]),\n",
       "   array([4.3, 3. , 1.1, 0.1]),\n",
       "   array([5.8, 4. , 1.2, 0.2]),\n",
       "   array([5.7, 4.4, 1.5, 0.4]),\n",
       "   array([5.4, 3.9, 1.3, 0.4]),\n",
       "   array([5.1, 3.5, 1.4, 0.3]),\n",
       "   array([5.7, 3.8, 1.7, 0.3]),\n",
       "   array([5.1, 3.8, 1.5, 0.3]),\n",
       "   array([5.4, 3.4, 1.7, 0.2]),\n",
       "   array([5.1, 3.7, 1.5, 0.4]),\n",
       "   array([4.6, 3.6, 1. , 0.2]),\n",
       "   array([5.1, 3.3, 1.7, 0.5]),\n",
       "   array([4.8, 3.4, 1.9, 0.2]),\n",
       "   array([5. , 3. , 1.6, 0.2]),\n",
       "   array([5. , 3.4, 1.6, 0.4]),\n",
       "   array([5.2, 3.5, 1.5, 0.2]),\n",
       "   array([5.2, 3.4, 1.4, 0.2]),\n",
       "   array([4.7, 3.2, 1.6, 0.2]),\n",
       "   array([4.8, 3.1, 1.6, 0.2]),\n",
       "   array([5.4, 3.4, 1.5, 0.4]),\n",
       "   array([5.2, 4.1, 1.5, 0.1]),\n",
       "   array([5.5, 4.2, 1.4, 0.2]),\n",
       "   array([4.9, 3.1, 1.5, 0.2]),\n",
       "   array([5. , 3.2, 1.2, 0.2]),\n",
       "   array([5.5, 3.5, 1.3, 0.2]),\n",
       "   array([4.9, 3.6, 1.4, 0.1]),\n",
       "   array([4.4, 3. , 1.3, 0.2]),\n",
       "   array([5.1, 3.4, 1.5, 0.2]),\n",
       "   array([5. , 3.5, 1.3, 0.3]),\n",
       "   array([4.5, 2.3, 1.3, 0.3]),\n",
       "   array([4.4, 3.2, 1.3, 0.2]),\n",
       "   array([5. , 3.5, 1.6, 0.6]),\n",
       "   array([5.1, 3.8, 1.9, 0.4]),\n",
       "   array([4.8, 3. , 1.4, 0.3]),\n",
       "   array([5.1, 3.8, 1.6, 0.2]),\n",
       "   array([4.6, 3.2, 1.4, 0.2]),\n",
       "   array([5.3, 3.7, 1.5, 0.2]),\n",
       "   array([5. , 3.3, 1.4, 0.2]),\n",
       "   array([4.9, 2.4, 3.3, 1. ]),\n",
       "   array([5. , 2. , 3.5, 1. ]),\n",
       "   array([5.7, 2.6, 3.5, 1. ]),\n",
       "   array([5. , 2.3, 3.3, 1. ]),\n",
       "   array([5.1, 2.5, 3. , 1.1])],\n",
       "  2: [array([7. , 3.2, 4.7, 1.4]),\n",
       "   array([6.4, 3.2, 4.5, 1.5]),\n",
       "   array([6.9, 3.1, 4.9, 1.5]),\n",
       "   array([5.5, 2.3, 4. , 1.3]),\n",
       "   array([6.5, 2.8, 4.6, 1.5]),\n",
       "   array([5.7, 2.8, 4.5, 1.3]),\n",
       "   array([6.3, 3.3, 4.7, 1.6]),\n",
       "   array([6.6, 2.9, 4.6, 1.3]),\n",
       "   array([5.2, 2.7, 3.9, 1.4]),\n",
       "   array([5.9, 3. , 4.2, 1.5]),\n",
       "   array([6. , 2.2, 4. , 1. ]),\n",
       "   array([6.1, 2.9, 4.7, 1.4]),\n",
       "   array([5.6, 2.9, 3.6, 1.3]),\n",
       "   array([6.7, 3.1, 4.4, 1.4]),\n",
       "   array([5.6, 3. , 4.5, 1.5]),\n",
       "   array([5.8, 2.7, 4.1, 1. ]),\n",
       "   array([6.2, 2.2, 4.5, 1.5]),\n",
       "   array([5.6, 2.5, 3.9, 1.1]),\n",
       "   array([5.9, 3.2, 4.8, 1.8]),\n",
       "   array([6.1, 2.8, 4. , 1.3]),\n",
       "   array([6.3, 2.5, 4.9, 1.5]),\n",
       "   array([6.1, 2.8, 4.7, 1.2]),\n",
       "   array([6.4, 2.9, 4.3, 1.3]),\n",
       "   array([6.6, 3. , 4.4, 1.4]),\n",
       "   array([6.8, 2.8, 4.8, 1.4]),\n",
       "   array([6.7, 3. , 5. , 1.7]),\n",
       "   array([6. , 2.9, 4.5, 1.5]),\n",
       "   array([5.5, 2.4, 3.8, 1.1]),\n",
       "   array([5.5, 2.4, 3.7, 1. ]),\n",
       "   array([5.8, 2.7, 3.9, 1.2]),\n",
       "   array([6. , 2.7, 5.1, 1.6]),\n",
       "   array([5.4, 3. , 4.5, 1.5]),\n",
       "   array([6. , 3.4, 4.5, 1.6]),\n",
       "   array([6.7, 3.1, 4.7, 1.5]),\n",
       "   array([6.3, 2.3, 4.4, 1.3]),\n",
       "   array([5.6, 3. , 4.1, 1.3]),\n",
       "   array([5.5, 2.5, 4. , 1.3]),\n",
       "   array([5.5, 2.6, 4.4, 1.2]),\n",
       "   array([6.1, 3. , 4.6, 1.4]),\n",
       "   array([5.8, 2.6, 4. , 1.2]),\n",
       "   array([5.6, 2.7, 4.2, 1.3]),\n",
       "   array([5.7, 3. , 4.2, 1.2]),\n",
       "   array([5.7, 2.9, 4.2, 1.3]),\n",
       "   array([6.2, 2.9, 4.3, 1.3]),\n",
       "   array([5.7, 2.8, 4.1, 1.3]),\n",
       "   array([5.8, 2.7, 5.1, 1.9]),\n",
       "   array([6.3, 2.9, 5.6, 1.8]),\n",
       "   array([4.9, 2.5, 4.5, 1.7]),\n",
       "   array([6.5, 3.2, 5.1, 2. ]),\n",
       "   array([6.4, 2.7, 5.3, 1.9]),\n",
       "   array([5.7, 2.5, 5. , 2. ]),\n",
       "   array([5.8, 2.8, 5.1, 2.4]),\n",
       "   array([6.4, 3.2, 5.3, 2.3]),\n",
       "   array([6.5, 3. , 5.5, 1.8]),\n",
       "   array([6. , 2.2, 5. , 1.5]),\n",
       "   array([5.6, 2.8, 4.9, 2. ]),\n",
       "   array([6.3, 2.7, 4.9, 1.8]),\n",
       "   array([6.2, 2.8, 4.8, 1.8]),\n",
       "   array([6.1, 3. , 4.9, 1.8]),\n",
       "   array([6.4, 2.8, 5.6, 2.1]),\n",
       "   array([6.4, 2.8, 5.6, 2.2]),\n",
       "   array([6.3, 2.8, 5.1, 1.5]),\n",
       "   array([6.1, 2.6, 5.6, 1.4]),\n",
       "   array([6.4, 3.1, 5.5, 1.8]),\n",
       "   array([6. , 3. , 4.8, 1.8]),\n",
       "   array([6.9, 3.1, 5.1, 2.3]),\n",
       "   array([5.8, 2.7, 5.1, 1.9]),\n",
       "   array([6.7, 3. , 5.2, 2.3]),\n",
       "   array([6.3, 2.5, 5. , 1.9]),\n",
       "   array([6.5, 3. , 5.2, 2. ]),\n",
       "   array([6.2, 3.4, 5.4, 2.3]),\n",
       "   array([5.9, 3. , 5.1, 1.8])]})"
      ]
     },
     "execution_count": 601,
     "metadata": {},
     "output_type": "execute_result"
    }
   ],
   "source": [
    "centroids, classes"
   ]
  },
  {
   "cell_type": "code",
   "execution_count": 513,
   "metadata": {},
   "outputs": [
    {
     "data": {
      "text/plain": [
       "92.21268218623479"
      ]
     },
     "execution_count": 513,
     "metadata": {},
     "output_type": "execute_result"
    }
   ],
   "source": [
    "compute_sse(centroids, classes)"
   ]
  },
  {
   "cell_type": "markdown",
   "metadata": {},
   "source": [
    "### Computing SSE for each distance measure"
   ]
  },
  {
   "cell_type": "code",
   "execution_count": 141,
   "metadata": {},
   "outputs": [],
   "source": [
    "def compute_sse(centroids, classes):\n",
    "    sse = 0\n",
    "    for c in classes:\n",
    "        for point in classes[c]:\n",
    "            sse += np.square(norm(point - centroids[c]))\n",
    "    return sse"
   ]
  },
  {
   "cell_type": "markdown",
   "metadata": {},
   "source": [
    "##### SSE for Euclidean"
   ]
  },
  {
   "cell_type": "code",
   "execution_count": 516,
   "metadata": {},
   "outputs": [
    {
     "data": {
      "text/plain": [
       "78.85566582597731"
      ]
     },
     "execution_count": 516,
     "metadata": {},
     "output_type": "execute_result"
    }
   ],
   "source": [
    "#Solve for SSE\n",
    "centroids, classes = KMean(data, k, max_iteration, dist_eq='euclid')\n",
    "compute_sse(centroids, classes)"
   ]
  },
  {
   "cell_type": "markdown",
   "metadata": {},
   "source": [
    "##### SSE for Cosine"
   ]
  },
  {
   "cell_type": "code",
   "execution_count": 155,
   "metadata": {},
   "outputs": [
    {
     "data": {
      "text/plain": [
       "94.05184848484849"
      ]
     },
     "execution_count": 155,
     "metadata": {},
     "output_type": "execute_result"
    }
   ],
   "source": [
    "centroids, classes = KMean(data, k, max_iteration, dist_eq='cosine')\n",
    "compute_sse(centroids, classes)"
   ]
  },
  {
   "cell_type": "markdown",
   "metadata": {},
   "source": [
    "##### SSE for Jaccard"
   ]
  },
  {
   "cell_type": "code",
   "execution_count": 172,
   "metadata": {},
   "outputs": [
    {
     "data": {
      "text/plain": [
       "588.7835618052625"
      ]
     },
     "execution_count": 172,
     "metadata": {},
     "output_type": "execute_result"
    }
   ],
   "source": [
    "centroids, classes = KMean(data, k, max_iteration, dist_eq='jaccard')\n",
    "compute_sse(centroids, classes)"
   ]
  },
  {
   "cell_type": "markdown",
   "metadata": {},
   "source": [
    "### Calculating Accuracy "
   ]
  },
  {
   "cell_type": "code",
   "execution_count": 427,
   "metadata": {},
   "outputs": [],
   "source": [
    "def compute_acc(data, target_data, classes):\n",
    "    data = [list(x) for x in data]\n",
    "    correct = 0\n",
    "    targets = []\n",
    "    \n",
    "    # outputs list for analysis\n",
    "    for c in classes:\n",
    "        for point in classes[c]:\n",
    "            target_idx = [i for i, x in enumerate(data) if x == list(point)]\n",
    "            targets.append(list((c, point, iris.target[target_idx][0])))\n",
    "    \n",
    "    # get count for correctly classified\n",
    "    for el in targets:\n",
    "        if el[0] == el[-1]:\n",
    "            correct += 1\n",
    "        else:\n",
    "            continue\n",
    "     \n",
    "    return correct / len(data)"
   ]
  },
  {
   "cell_type": "code",
   "execution_count": 518,
   "metadata": {},
   "outputs": [
    {
     "data": {
      "text/plain": [
       "0.44666666666666666"
      ]
     },
     "execution_count": 518,
     "metadata": {},
     "output_type": "execute_result"
    }
   ],
   "source": [
    "compute_acc(data, iris.target, classes)"
   ]
  },
  {
   "cell_type": "markdown",
   "metadata": {},
   "source": [
    "#### Accuracy using Euclidean"
   ]
  },
  {
   "cell_type": "code",
   "execution_count": 525,
   "metadata": {},
   "outputs": [
    {
     "data": {
      "text/plain": [
       "0.8866666666666667"
      ]
     },
     "execution_count": 525,
     "metadata": {},
     "output_type": "execute_result"
    }
   ],
   "source": [
    "centroids, classes = KMean(data, k, max_iteration, dist_eq='euclid')\n",
    "compute_acc(data, iris.target, classes)"
   ]
  },
  {
   "cell_type": "markdown",
   "metadata": {},
   "source": [
    "#### Accuracy using Cosine"
   ]
  },
  {
   "cell_type": "code",
   "execution_count": 536,
   "metadata": {},
   "outputs": [
    {
     "data": {
      "text/plain": [
       "0.5533333333333333"
      ]
     },
     "execution_count": 536,
     "metadata": {},
     "output_type": "execute_result"
    }
   ],
   "source": [
    "centroids, classes = KMean(data, k, max_iteration, dist_eq='cosine')\n",
    "compute_acc(data, iris.target, classes)"
   ]
  },
  {
   "cell_type": "markdown",
   "metadata": {},
   "source": [
    "#### Accuracy using Jaccard"
   ]
  },
  {
   "cell_type": "code",
   "execution_count": 443,
   "metadata": {},
   "outputs": [
    {
     "data": {
      "text/plain": [
       "0.52"
      ]
     },
     "execution_count": 443,
     "metadata": {},
     "output_type": "execute_result"
    }
   ],
   "source": [
    "centroids, classes = KMean(data, k, max_iteration, dist_eq='jaccard')\n",
    "compute_acc(data, iris.target, classes)"
   ]
  },
  {
   "cell_type": "markdown",
   "metadata": {},
   "source": [
    "# K-means using different stop criteria"
   ]
  },
  {
   "cell_type": "code",
   "execution_count": 672,
   "metadata": {},
   "outputs": [],
   "source": [
    "def KMean(data, k , max_iteration, dist_eq = 'euclid', stop_criteria = 'preset'):\n",
    "    \n",
    "    centroids = {}\n",
    "    for i in range(k):\n",
    "        centroids[i] = data[choice(range(len(data)))]\n",
    "#         data[choice(len(data))]    \n",
    "    classes = {}\n",
    "    sse_ls = []\n",
    "    \n",
    "    for iteration in range(max_iteration):\n",
    "        classes = {}\n",
    "        \n",
    "        for class_key in range(k):\n",
    "            classes[class_key] = []\n",
    "            \n",
    "        for point in data:\n",
    "            distance = []\n",
    "            for centroid in centroids:\n",
    "                if dist_eq == 'euclid':\n",
    "                    dis = euclid_dist(point, centroids[centroid])\n",
    "                elif dist_eq == 'jaccard':\n",
    "                    dis = 1 - jaccard_dist(point, centroids[centroid])\n",
    "                else: \n",
    "                    dis = 1 - cosine_sim_dist(point, centroids[centroid])\n",
    "                    \n",
    "                    \n",
    "                distance.append(dis)\n",
    "            \n",
    "            min_dist = min(distance)\n",
    "            min_dist_idx = distance.index(min_dist)\n",
    "            classes[min_dist_idx].append(point)\n",
    "            \n",
    "        old_centroid = dict(centroids)\n",
    "        \n",
    "        for class_key in classes:\n",
    "            class_data = classes[class_key]\n",
    "            new_centroid = np.mean(class_data, axis=0)\n",
    "            centroids[class_key] = new_centroid\n",
    "        \n",
    "        # calculating SSE\n",
    "        sse = compute_sse(centroids, classes)\n",
    "        sse_ls.append(sse)    \n",
    "            \n",
    "        stop = False\n",
    "        \n",
    "        #Different stop criteria:\n",
    "        if stop_criteria == 'no_change_centroid':\n",
    "            #compare previous centroid with current centroid\n",
    "            #if equal to certain decimal, stop = True\n",
    "            change = True\n",
    "            for centroid in old_centroid:\n",
    "                old_cent = old_centroid[centroid]\n",
    "                current = centroids[centroid]\n",
    "                if list(old_cent) == list(current):\n",
    "                    change = False\n",
    "                    \n",
    "            #if no change in centroid, then iterations stop      \n",
    "            if change == False:\n",
    "                stop = True\n",
    "                \n",
    "        elif stop_criteria == 'sse_increase':\n",
    "            #compare previous sse with current sse\n",
    "            #if previous_sse < current_sse, stop = True\n",
    "            if sse_ls[-1] is None:\n",
    "                continue\n",
    "            else:\n",
    "                previous_sse = sse_ls[-1]\n",
    "                current_sse = sse\n",
    "\n",
    "            if previous_sse < current_sse:\n",
    "                stop = True\n",
    "        else: \n",
    "            continue  \n",
    "       \n",
    "        if stop:\n",
    "            break   \n",
    "    return centroids, classes\n",
    "            \n",
    "            "
   ]
  },
  {
   "cell_type": "markdown",
   "metadata": {},
   "source": [
    "#### Euclidean using no change in centroid stop condition "
   ]
  },
  {
   "cell_type": "code",
   "execution_count": 621,
   "metadata": {},
   "outputs": [
    {
     "data": {
      "text/plain": [
       "0.8933333333333333"
      ]
     },
     "execution_count": 621,
     "metadata": {},
     "output_type": "execute_result"
    }
   ],
   "source": [
    "centroids, classes = KMean(data, k, max_iteration, dist_eq='euclid', stop_criteria='no_change_centroid')\n",
    "compute_acc(data, iris.target, classes)"
   ]
  },
  {
   "cell_type": "markdown",
   "metadata": {},
   "source": [
    "#### Euclidean using sse increase stop condition"
   ]
  },
  {
   "cell_type": "code",
   "execution_count": 647,
   "metadata": {},
   "outputs": [
    {
     "data": {
      "text/plain": [
       "0.8866666666666667"
      ]
     },
     "execution_count": 647,
     "metadata": {},
     "output_type": "execute_result"
    }
   ],
   "source": [
    "centroids, classes = KMean(data, k, max_iteration, dist_eq='euclid', stop_criteria='sse_increase')\n",
    "compute_acc(data, iris.target, classes)"
   ]
  },
  {
   "cell_type": "markdown",
   "metadata": {},
   "source": [
    "#### Euclidean using preset iteration stop condition"
   ]
  },
  {
   "cell_type": "code",
   "execution_count": 746,
   "metadata": {},
   "outputs": [
    {
     "data": {
      "text/plain": [
       "0.5733333333333334"
      ]
     },
     "execution_count": 746,
     "metadata": {},
     "output_type": "execute_result"
    }
   ],
   "source": [
    "max_iteration = 100\n",
    "centroids, classes = KMean(data, k, max_iteration, dist_eq='euclid', stop_criteria='preset')\n",
    "compute_acc(data, iris.target, classes)"
   ]
  },
  {
   "cell_type": "markdown",
   "metadata": {},
   "source": [
    "#### Cosine using no change in centroid stop condition "
   ]
  },
  {
   "cell_type": "code",
   "execution_count": 697,
   "metadata": {},
   "outputs": [
    {
     "data": {
      "text/plain": [
       "0.86"
      ]
     },
     "execution_count": 697,
     "metadata": {},
     "output_type": "execute_result"
    }
   ],
   "source": [
    "centroids, classes = KMean(data, k, max_iteration, dist_eq='cosine', stop_criteria='no_change_centroid')\n",
    "compute_acc(data, iris.target, classes)"
   ]
  },
  {
   "cell_type": "markdown",
   "metadata": {},
   "source": [
    "#### Cosine using sse increase stop condition"
   ]
  },
  {
   "cell_type": "code",
   "execution_count": 705,
   "metadata": {},
   "outputs": [
    {
     "data": {
      "text/plain": [
       "0.5"
      ]
     },
     "execution_count": 705,
     "metadata": {},
     "output_type": "execute_result"
    }
   ],
   "source": [
    "centroids, classes = KMean(data, k, max_iteration, dist_eq='cosine', stop_criteria='sse_increase')\n",
    "compute_acc(data, iris.target, classes)"
   ]
  },
  {
   "cell_type": "markdown",
   "metadata": {},
   "source": [
    "#### Cosine using preset iteration stop condition"
   ]
  },
  {
   "cell_type": "code",
   "execution_count": 715,
   "metadata": {},
   "outputs": [
    {
     "data": {
      "text/plain": [
       "0.9733333333333334"
      ]
     },
     "execution_count": 715,
     "metadata": {},
     "output_type": "execute_result"
    }
   ],
   "source": [
    "max_iteration = 100\n",
    "centroids, classes = KMean(data, k, max_iteration, dist_eq='cosine', stop_criteria='preset')\n",
    "compute_acc(data, iris.target, classes)"
   ]
  },
  {
   "cell_type": "markdown",
   "metadata": {},
   "source": [
    "#### Jaccard using no change in centroid stop condition "
   ]
  },
  {
   "cell_type": "code",
   "execution_count": 723,
   "metadata": {},
   "outputs": [
    {
     "data": {
      "text/plain": [
       "0.88"
      ]
     },
     "execution_count": 723,
     "metadata": {},
     "output_type": "execute_result"
    }
   ],
   "source": [
    "centroids, classes = KMean(data, k, max_iteration, dist_eq='jaccard', stop_criteria='no_change_centroid')\n",
    "compute_acc(data, iris.target, classes)"
   ]
  },
  {
   "cell_type": "markdown",
   "metadata": {},
   "source": [
    "#### Jaccard using sse increase stop condition"
   ]
  },
  {
   "cell_type": "code",
   "execution_count": 729,
   "metadata": {},
   "outputs": [
    {
     "data": {
      "text/plain": [
       "0.8933333333333333"
      ]
     },
     "execution_count": 729,
     "metadata": {},
     "output_type": "execute_result"
    }
   ],
   "source": [
    "centroids, classes = KMean(data, k, max_iteration, dist_eq='jaccard', stop_criteria='sse_increase')\n",
    "compute_acc(data, iris.target, classes)"
   ]
  },
  {
   "cell_type": "markdown",
   "metadata": {},
   "source": [
    "#### Jaccard using preset iteration stop condition"
   ]
  },
  {
   "cell_type": "code",
   "execution_count": 738,
   "metadata": {},
   "outputs": [
    {
     "data": {
      "text/plain": [
       "0.5133333333333333"
      ]
     },
     "execution_count": 738,
     "metadata": {},
     "output_type": "execute_result"
    }
   ],
   "source": [
    "max_iteration = 100\n",
    "centroids, classes = KMean(data, k, max_iteration, dist_eq='cosine', stop_criteria='preset')\n",
    "compute_acc(data, iris.target, classes)"
   ]
  },
  {
   "cell_type": "code",
   "execution_count": null,
   "metadata": {},
   "outputs": [],
   "source": []
  },
  {
   "cell_type": "code",
   "execution_count": null,
   "metadata": {},
   "outputs": [],
   "source": []
  }
 ],
 "metadata": {
  "kernelspec": {
   "display_name": "Python 3",
   "language": "python",
   "name": "python3"
  },
  "language_info": {
   "codemirror_mode": {
    "name": "ipython",
    "version": 3
   },
   "file_extension": ".py",
   "mimetype": "text/x-python",
   "name": "python",
   "nbconvert_exporter": "python",
   "pygments_lexer": "ipython3",
   "version": "3.8.2"
  }
 },
 "nbformat": 4,
 "nbformat_minor": 4
}
